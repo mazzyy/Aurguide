{
 "cells": [
  {
   "cell_type": "code",
   "execution_count": 2,
   "metadata": {},
   "outputs": [],
   "source": [
    "import pandas as pd "
   ]
  },
  {
   "cell_type": "code",
   "execution_count": 26,
   "metadata": {},
   "outputs": [
    {
     "data": {
      "text/plain": [
       "0       https://www2.daad.de/deutschland/studienangebo...\n",
       "1       https://www2.daad.de/deutschland/studienangebo...\n",
       "2       https://www2.daad.de/deutschland/studienangebo...\n",
       "3       https://www2.daad.de/deutschland/studienangebo...\n",
       "4       https://www2.daad.de/deutschland/studienangebo...\n",
       "                              ...                        \n",
       "1509    https://www2.daad.de/deutschland/studienangebo...\n",
       "1510    https://www2.daad.de/deutschland/studienangebo...\n",
       "1511    https://www2.daad.de/deutschland/studienangebo...\n",
       "1512    https://www2.daad.de/deutschland/studienangebo...\n",
       "1513    https://www2.daad.de/deutschland/studienangebo...\n",
       "Name: Detail Link, Length: 1514, dtype: object"
      ]
     },
     "execution_count": 26,
     "metadata": {},
     "output_type": "execute_result"
    }
   ],
   "source": [
    "df = pd.read_csv(\"./archive/daad_international_master_programs.csv\")\n",
    "df['Detail Link']"
   ]
  },
  {
   "cell_type": "code",
   "execution_count": 27,
   "metadata": {},
   "outputs": [],
   "source": [
    "# Create a new variable 'link' with the updated values\n",
    "link = df['Detail Link'] + \"#tab_registration\"\n",
    "\n",
    "# Display the new variable\n",
    "\n"
   ]
  },
  {
   "cell_type": "code",
   "execution_count": 30,
   "metadata": {},
   "outputs": [
    {
     "name": "stdout",
     "output_type": "stream",
     "text": [
      "https://www2.daad.de/deutschland/studienangebote/international-programmes/en/detail/4770/#tab_registration\n"
     ]
    }
   ],
   "source": [
    "\n",
    "# Save the data from index 1 to 10 into a new variable\n",
    "new_link = link.iloc[1:3]  # Note: iloc is exclusive of the last index\n",
    "\n",
    "# Display the new variable\n",
    "print(new_link[1])\n"
   ]
  },
  {
   "cell_type": "code",
   "execution_count": 33,
   "metadata": {},
   "outputs": [
    {
     "name": "stdout",
     "output_type": "stream",
     "text": [
      "Data has been scraped and saved to university_requirements.csv\n"
     ]
    },
    {
     "name": "stderr",
     "output_type": "stream",
     "text": [
      "C:\\Users\\musaw\\AppData\\Local\\Temp\\ipykernel_11316\\2452026875.py:26: DeprecationWarning: The 'text' argument to find()-type methods is deprecated. Use 'string' instead.\n",
      "  academic_section = soup.find('th', text='Academic admission requirements')\n",
      "C:\\Users\\musaw\\AppData\\Local\\Temp\\ipykernel_11316\\2452026875.py:33: DeprecationWarning: The 'text' argument to find()-type methods is deprecated. Use 'string' instead.\n",
      "  language_section = soup.find('th', text='Language requirements')\n",
      "C:\\Users\\musaw\\AppData\\Local\\Temp\\ipykernel_11316\\2452026875.py:40: DeprecationWarning: The 'text' argument to find()-type methods is deprecated. Use 'string' instead.\n",
      "  deadline_section = soup.find('th', text='Application deadline')\n",
      "C:\\Users\\musaw\\AppData\\Local\\Temp\\ipykernel_11316\\2452026875.py:47: DeprecationWarning: The 'text' argument to find()-type methods is deprecated. Use 'string' instead.\n",
      "  submit_section = soup.find('th', text='Submit application to')\n"
     ]
    }
   ],
   "source": [
    "import requests\n",
    "from bs4 import BeautifulSoup\n",
    "import pandas as pd\n",
    "\n",
    "# Initialize empty lists for each category\n",
    "academic_requirements = []\n",
    "language_requirements = []\n",
    "application_deadline = []\n",
    "submit_application = []\n",
    "\n",
    "def scrape_university_requirements(url):\n",
    "    try:\n",
    "        # Send HTTP request\n",
    "        headers = {\n",
    "            'User-Agent': 'Mozilla/5.0 (Windows NT 10.0; Win64; x64) AppleWebKit/537.36 (KHTML, like Gecko) Chrome/91.0.4472.124 Safari/537.36'\n",
    "        }\n",
    "        response = requests.get(url, headers=headers)\n",
    "        response.raise_for_status()\n",
    "        \n",
    "        # Parse HTML content\n",
    "        soup = BeautifulSoup(response.text, 'html.parser')\n",
    "        \n",
    "        # Find and extract Academic admission requirements\n",
    "        academic_section = soup.find('th', text='Academic admission requirements')\n",
    "        if academic_section:\n",
    "            academic_content = academic_section.find_next('td')\n",
    "            if academic_content:\n",
    "                academic_requirements.append(academic_content.get_text(strip=True))\n",
    "        \n",
    "        # Find and extract Language requirements\n",
    "        language_section = soup.find('th', text='Language requirements')\n",
    "        if language_section:\n",
    "            language_content = language_section.find_next('td')\n",
    "            if language_content:\n",
    "                language_requirements.append(language_content.get_text(strip=True))\n",
    "        \n",
    "        # Find and extract Application deadline\n",
    "        deadline_section = soup.find('th', text='Application deadline')\n",
    "        if deadline_section:\n",
    "            deadline_content = deadline_section.find_next('td')\n",
    "            if deadline_content:\n",
    "                application_deadline.append(deadline_content.get_text(strip=True))\n",
    "        \n",
    "        # Find and extract Submit application to\n",
    "        submit_section = soup.find('th', text='Submit application to')\n",
    "        if submit_section:\n",
    "            submit_content = submit_section.find_next('td')\n",
    "            if submit_content:\n",
    "                submit_application.append(submit_content.get_text(strip=True))\n",
    "                \n",
    "    except Exception as e:\n",
    "        print(f\"An error occurred: {str(e)}\")\n",
    "\n",
    "# Usage example\n",
    "url = \"https://www2.daad.de/deutschland/studienangebote/international-programmes/en/detail/4770/#tab_registration\"\n",
    "scrape_university_requirements(url)\n",
    "\n",
    "# Print the results\n",
    "print(\"Academic Requirements:\", academic_requirements)\n",
    "print(\"Language Requirements:\", language_requirements)\n",
    "print(\"Application Deadline:\", application_deadline)\n",
    "print(\"Submit Application:\", submit_application)\n",
    "\n",
    "# Create DataFrame if needed\n",
    "df = pd.DataFrame({\n",
    "    'academic_requirements': academic_requirements,\n",
    "    'language_requirements': language_requirements,\n",
    "    'application_deadline': application_deadline,\n",
    "    'submit_application': submit_application\n",
    "})\n",
    "\n",
    "# Save to CSV\n",
    "df.to_csv('university_requirements.csv', index=False)\n",
    "print(\"Data has been scraped and saved to university_requirements.csv\")"
   ]
  },
  {
   "cell_type": "code",
   "execution_count": null,
   "metadata": {},
   "outputs": [],
   "source": []
  }
 ],
 "metadata": {
  "kernelspec": {
   "display_name": "env",
   "language": "python",
   "name": "python3"
  },
  "language_info": {
   "codemirror_mode": {
    "name": "ipython",
    "version": 3
   },
   "file_extension": ".py",
   "mimetype": "text/x-python",
   "name": "python",
   "nbconvert_exporter": "python",
   "pygments_lexer": "ipython3",
   "version": "3.12.3"
  }
 },
 "nbformat": 4,
 "nbformat_minor": 2
}
